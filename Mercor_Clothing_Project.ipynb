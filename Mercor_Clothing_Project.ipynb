{
  "nbformat": 4,
  "nbformat_minor": 0,
  "metadata": {
    "colab": {
      "provenance": [],
      "authorship_tag": "ABX9TyOPAPCLO8HcyxcGOSOJBS3H",
      "include_colab_link": true
    },
    "kernelspec": {
      "name": "python3",
      "display_name": "Python 3"
    },
    "language_info": {
      "name": "python"
    }
  },
  "cells": [
    {
      "cell_type": "markdown",
      "metadata": {
        "id": "view-in-github",
        "colab_type": "text"
      },
      "source": [
        "<a href=\"https://colab.research.google.com/github/sauravdas093/Mercor/blob/main/Mercor_Clothing_Project.ipynb\" target=\"_parent\"><img src=\"https://colab.research.google.com/assets/colab-badge.svg\" alt=\"Open In Colab\"/></a>"
      ]
    },
    {
      "cell_type": "code",
      "execution_count": 1,
      "metadata": {
        "colab": {
          "base_uri": "https://localhost:8080/"
        },
        "id": "G5SrxyDEZfYI",
        "outputId": "ebe6ef32-d3e8-46da-d72c-3474b0a75e67"
      },
      "outputs": [
        {
          "output_type": "stream",
          "name": "stdout",
          "text": [
            "Mounted at /content/drive\n"
          ]
        }
      ],
      "source": [
        "## Mounting Google Drive to access csv files in Colab.\n",
        "\n",
        "from google.colab import drive\n",
        "drive.mount('/content/drive')"
      ]
    },
    {
      "cell_type": "code",
      "source": [
        "#Importing the pandas library as pd alias\n",
        "import pandas as pd    \n",
        "\n",
        "# Reading the database of the clothing items from multiple e-commerce websites\n",
        "flipkart = pd.read_csv('/content/drive/MyDrive/Mercor/flipkart.csv')\n",
        "meesho = pd.read_csv('/content/drive/MyDrive/Mercor/meesho.csv')\n",
        "myntra = pd.read_csv('/content/drive/MyDrive/Mercor/myntra.csv')"
      ],
      "metadata": {
        "id": "vFWpDJssZqAI"
      },
      "execution_count": 1,
      "outputs": []
    },
    {
      "cell_type": "code",
      "source": [
        "#Concat all the data from various e-commerce websites\n",
        "clothing_df = pd.concat([flipkart, meesho, myntra],ignore_index=True)\n",
        "clothing_df = clothing_df.reset_index()\n",
        "\n",
        "#Alloting column names\n",
        "clothing_df.columns = ['Id','Image_url', 'Brand', 'Product_url','Product','Image','product_url_nan']\n",
        "clothing_df.drop(['Image','product_url_nan'],axis=1,inplace= True)\n",
        "clothing_df.dropna(inplace=True)\n",
        "result_df = clothing_df[['Id']].copy()\n",
        "print(clothing_df.shape)\n",
        "clothing_df.head(5)"
      ],
      "metadata": {
        "id": "gJvmYxuvZrQX",
        "colab": {
          "base_uri": "https://localhost:8080/",
          "height": 223
        },
        "outputId": "1d839622-82ff-4475-d25a-531b6438d2e7"
      },
      "execution_count": 2,
      "outputs": [
        {
          "output_type": "stream",
          "name": "stdout",
          "text": [
            "(20101, 5)\n"
          ]
        },
        {
          "output_type": "execute_result",
          "data": {
            "text/plain": [
              "   Id                                          Image_url          Brand  \\\n",
              "0   0  https://rukminim1.flixcart.com/image/612/612/x...        SAN TEE   \n",
              "1   1  https://rukminim1.flixcart.com/image/612/612/x...     SILVER TEE   \n",
              "2   2  https://rukminim1.flixcart.com/image/612/612/x...  Mars Infiniti   \n",
              "3   3  https://rukminim1.flixcart.com/image/612/612/x...          Fasla   \n",
              "4   4  https://rukminim1.flixcart.com/image/612/612/x...     CUTE TREND   \n",
              "\n",
              "                                         Product_url  \\\n",
              "0  https://www.flipkart.com/san-tee-track-pant-bo...   \n",
              "1  https://www.flipkart.com/silver-tee-short-boys...   \n",
              "2  https://www.flipkart.com/mars-infiniti-boys-ca...   \n",
              "3  https://www.flipkart.com/fasla-short-girls-cas...   \n",
              "4  https://www.flipkart.com/cute-trend-short-boys...   \n",
              "\n",
              "                                             Product  \n",
              "0                        Track Pant For Boys & Girls  \n",
              "1         Short For Boys Casual Printed Cotton Blend  \n",
              "2                         Boys Casual T-shirt Shorts  \n",
              "3  Short For Girls Casual Printed Cotton Linen Blend  \n",
              "4          Short For Boys Sports Printed Pure Cotton  "
            ],
            "text/html": [
              "\n",
              "  <div id=\"df-f72c779e-f84d-4d81-b690-6f76d80dbcba\">\n",
              "    <div class=\"colab-df-container\">\n",
              "      <div>\n",
              "<style scoped>\n",
              "    .dataframe tbody tr th:only-of-type {\n",
              "        vertical-align: middle;\n",
              "    }\n",
              "\n",
              "    .dataframe tbody tr th {\n",
              "        vertical-align: top;\n",
              "    }\n",
              "\n",
              "    .dataframe thead th {\n",
              "        text-align: right;\n",
              "    }\n",
              "</style>\n",
              "<table border=\"1\" class=\"dataframe\">\n",
              "  <thead>\n",
              "    <tr style=\"text-align: right;\">\n",
              "      <th></th>\n",
              "      <th>Id</th>\n",
              "      <th>Image_url</th>\n",
              "      <th>Brand</th>\n",
              "      <th>Product_url</th>\n",
              "      <th>Product</th>\n",
              "    </tr>\n",
              "  </thead>\n",
              "  <tbody>\n",
              "    <tr>\n",
              "      <th>0</th>\n",
              "      <td>0</td>\n",
              "      <td>https://rukminim1.flixcart.com/image/612/612/x...</td>\n",
              "      <td>SAN TEE</td>\n",
              "      <td>https://www.flipkart.com/san-tee-track-pant-bo...</td>\n",
              "      <td>Track Pant For Boys &amp; Girls</td>\n",
              "    </tr>\n",
              "    <tr>\n",
              "      <th>1</th>\n",
              "      <td>1</td>\n",
              "      <td>https://rukminim1.flixcart.com/image/612/612/x...</td>\n",
              "      <td>SILVER TEE</td>\n",
              "      <td>https://www.flipkart.com/silver-tee-short-boys...</td>\n",
              "      <td>Short For Boys Casual Printed Cotton Blend</td>\n",
              "    </tr>\n",
              "    <tr>\n",
              "      <th>2</th>\n",
              "      <td>2</td>\n",
              "      <td>https://rukminim1.flixcart.com/image/612/612/x...</td>\n",
              "      <td>Mars Infiniti</td>\n",
              "      <td>https://www.flipkart.com/mars-infiniti-boys-ca...</td>\n",
              "      <td>Boys Casual T-shirt Shorts</td>\n",
              "    </tr>\n",
              "    <tr>\n",
              "      <th>3</th>\n",
              "      <td>3</td>\n",
              "      <td>https://rukminim1.flixcart.com/image/612/612/x...</td>\n",
              "      <td>Fasla</td>\n",
              "      <td>https://www.flipkart.com/fasla-short-girls-cas...</td>\n",
              "      <td>Short For Girls Casual Printed Cotton Linen Blend</td>\n",
              "    </tr>\n",
              "    <tr>\n",
              "      <th>4</th>\n",
              "      <td>4</td>\n",
              "      <td>https://rukminim1.flixcart.com/image/612/612/x...</td>\n",
              "      <td>CUTE TREND</td>\n",
              "      <td>https://www.flipkart.com/cute-trend-short-boys...</td>\n",
              "      <td>Short For Boys Sports Printed Pure Cotton</td>\n",
              "    </tr>\n",
              "  </tbody>\n",
              "</table>\n",
              "</div>\n",
              "      <button class=\"colab-df-convert\" onclick=\"convertToInteractive('df-f72c779e-f84d-4d81-b690-6f76d80dbcba')\"\n",
              "              title=\"Convert this dataframe to an interactive table.\"\n",
              "              style=\"display:none;\">\n",
              "        \n",
              "  <svg xmlns=\"http://www.w3.org/2000/svg\" height=\"24px\"viewBox=\"0 0 24 24\"\n",
              "       width=\"24px\">\n",
              "    <path d=\"M0 0h24v24H0V0z\" fill=\"none\"/>\n",
              "    <path d=\"M18.56 5.44l.94 2.06.94-2.06 2.06-.94-2.06-.94-.94-2.06-.94 2.06-2.06.94zm-11 1L8.5 8.5l.94-2.06 2.06-.94-2.06-.94L8.5 2.5l-.94 2.06-2.06.94zm10 10l.94 2.06.94-2.06 2.06-.94-2.06-.94-.94-2.06-.94 2.06-2.06.94z\"/><path d=\"M17.41 7.96l-1.37-1.37c-.4-.4-.92-.59-1.43-.59-.52 0-1.04.2-1.43.59L10.3 9.45l-7.72 7.72c-.78.78-.78 2.05 0 2.83L4 21.41c.39.39.9.59 1.41.59.51 0 1.02-.2 1.41-.59l7.78-7.78 2.81-2.81c.8-.78.8-2.07 0-2.86zM5.41 20L4 18.59l7.72-7.72 1.47 1.35L5.41 20z\"/>\n",
              "  </svg>\n",
              "      </button>\n",
              "      \n",
              "  <style>\n",
              "    .colab-df-container {\n",
              "      display:flex;\n",
              "      flex-wrap:wrap;\n",
              "      gap: 12px;\n",
              "    }\n",
              "\n",
              "    .colab-df-convert {\n",
              "      background-color: #E8F0FE;\n",
              "      border: none;\n",
              "      border-radius: 50%;\n",
              "      cursor: pointer;\n",
              "      display: none;\n",
              "      fill: #1967D2;\n",
              "      height: 32px;\n",
              "      padding: 0 0 0 0;\n",
              "      width: 32px;\n",
              "    }\n",
              "\n",
              "    .colab-df-convert:hover {\n",
              "      background-color: #E2EBFA;\n",
              "      box-shadow: 0px 1px 2px rgba(60, 64, 67, 0.3), 0px 1px 3px 1px rgba(60, 64, 67, 0.15);\n",
              "      fill: #174EA6;\n",
              "    }\n",
              "\n",
              "    [theme=dark] .colab-df-convert {\n",
              "      background-color: #3B4455;\n",
              "      fill: #D2E3FC;\n",
              "    }\n",
              "\n",
              "    [theme=dark] .colab-df-convert:hover {\n",
              "      background-color: #434B5C;\n",
              "      box-shadow: 0px 1px 3px 1px rgba(0, 0, 0, 0.15);\n",
              "      filter: drop-shadow(0px 1px 2px rgba(0, 0, 0, 0.3));\n",
              "      fill: #FFFFFF;\n",
              "    }\n",
              "  </style>\n",
              "\n",
              "      <script>\n",
              "        const buttonEl =\n",
              "          document.querySelector('#df-f72c779e-f84d-4d81-b690-6f76d80dbcba button.colab-df-convert');\n",
              "        buttonEl.style.display =\n",
              "          google.colab.kernel.accessAllowed ? 'block' : 'none';\n",
              "\n",
              "        async function convertToInteractive(key) {\n",
              "          const element = document.querySelector('#df-f72c779e-f84d-4d81-b690-6f76d80dbcba');\n",
              "          const dataTable =\n",
              "            await google.colab.kernel.invokeFunction('convertToInteractive',\n",
              "                                                     [key], {});\n",
              "          if (!dataTable) return;\n",
              "\n",
              "          const docLinkHtml = 'Like what you see? Visit the ' +\n",
              "            '<a target=\"_blank\" href=https://colab.research.google.com/notebooks/data_table.ipynb>data table notebook</a>'\n",
              "            + ' to learn more about interactive tables.';\n",
              "          element.innerHTML = '';\n",
              "          dataTable['output_type'] = 'display_data';\n",
              "          await google.colab.output.renderOutput(dataTable, element);\n",
              "          const docLink = document.createElement('div');\n",
              "          docLink.innerHTML = docLinkHtml;\n",
              "          element.appendChild(docLink);\n",
              "        }\n",
              "      </script>\n",
              "    </div>\n",
              "  </div>\n",
              "  "
            ]
          },
          "metadata": {},
          "execution_count": 2
        }
      ]
    },
    {
      "cell_type": "code",
      "source": [
        "#Import the nltk module\n",
        "import nltk\n",
        "\n",
        "#Import the WordNetLemmatizer class from the nltk.stem module\n",
        "from nltk.stem import WordNetLemmatizer\n",
        "\n",
        "#Create an instance of the WordNetLemmatizer class\n",
        "wnl = WordNetLemmatizer()\n",
        "\n",
        "#Download the WordNet dataset\n",
        "nltk.download('wordnet')\n",
        "\n",
        "#defining a function to lemmatize a text\n",
        "def lemmatize(word_to_lemmatize):\n",
        "  return(wnl.lemmatize(word_to_lemmatize))"
      ],
      "metadata": {
        "colab": {
          "base_uri": "https://localhost:8080/"
        },
        "id": "UyJkj0giChPT",
        "outputId": "c050af70-110a-4285-fd3a-18e670d2e8a6"
      },
      "execution_count": 3,
      "outputs": [
        {
          "output_type": "stream",
          "name": "stderr",
          "text": [
            "[nltk_data] Downloading package wordnet to /root/nltk_data...\n",
            "[nltk_data]   Package wordnet is already up-to-date!\n"
          ]
        }
      ]
    },
    {
      "cell_type": "code",
      "source": [
        "#Preprocessing data and Text Normalization to remove special characters, lowercase conversion and lemmatization\n",
        "\n",
        "clothing_df['Product'] = clothing_df['Product'].replace('\\W', ' ', regex=True)\n",
        "clothing_df['Product'] = clothing_df['Product'].str.lower()\n",
        "clothing_df['Product'] = clothing_df['Product'].apply(lemmatize)"
      ],
      "metadata": {
        "id": "AIxhfvmnb4yX"
      },
      "execution_count": 4,
      "outputs": []
    },
    {
      "cell_type": "code",
      "source": [
        "# Importing the Word2Vec model from the gensim library\n",
        "from gensim.models import Word2Vec\n",
        "\n",
        "# Importing the word_tokenize function from the nltk.tokenize module\n",
        "from nltk.tokenize import word_tokenize\n",
        "\n",
        "text_vector_mapping = {}\n",
        "\n",
        "# Preprocess text (example)\n",
        "# text1 = \"sdfdsf sfgfdsgfd sfdgdsg pant for boys.\"\n",
        "\n",
        "#Function to extract useful features from the text \n",
        "def word_embedding(input_text):\n",
        "    text2 = input_text\n",
        "    # tokens1 = word_tokenize(text1.lower())  # Tokenize and convert to lowercase\n",
        "    tokens2 = word_tokenize(text2.lower())  # Tokenize and convert to lowercase\n",
        "\n",
        "    # Train Word2Vec model (example)\n",
        "    model = Word2Vec(sentences=[tokens2], min_count=1, vector_size=100)\n",
        "\n",
        "    # Extract features using average word vectors\n",
        "    def extract_features(text):\n",
        "        tokens = word_tokenize(text.lower())  # Preprocess text\n",
        "        vectors = [model.wv[word] for word in tokens if word in model.wv]  # Get word vectors\n",
        "        if vectors:\n",
        "            avg_vector = sum(vectors) / len(vectors)  # Calculate average vector\n",
        "            return avg_vector\n",
        "        else:\n",
        "            return None\n",
        "\n",
        "    # Convert vector back to text\n",
        "    def vector_to_text(vector):\n",
        "        text = text_vector_mapping.get(tuple(vector), \"Vector representation not found.\")\n",
        "        return text\n",
        "\n",
        "    # Example usage\n",
        "    # features1 = extract_features(text1)\n",
        "    features2 = extract_features(text2)\n",
        "\n",
        "    # text_vector_mapping[tuple(features1)] = text1\n",
        "    text_vector_mapping[tuple(features2)] = text2\n",
        "\n",
        "    #Storing the final extracted text in extracted_text\n",
        "    extracted_text = vector_to_text(features2)\n",
        "\n",
        "    return extracted_text"
      ],
      "metadata": {
        "id": "ZQg5oY2cXTSl"
      },
      "execution_count": 5,
      "outputs": []
    },
    {
      "cell_type": "code",
      "source": [
        "#Import the dot function from the NumPy library\n",
        "from numpy import dot\n",
        "\n",
        "#Import the norm function from the numpy.linalg module\n",
        "from numpy.linalg import norm\n",
        "\n",
        "#Import the quote function from the urllib.parse module\n",
        "from urllib.parse import quote\n",
        "\n",
        "#Set the maximum column width for Pandas DataFrame display\n",
        "pd.set_option('display.max_colwidth', 1000)\n",
        "\n",
        "#creating resulting dataframe\n",
        "result_df = clothing_df[['Id']].copy()\n",
        "\n",
        "\"\"\"\n",
        "Defining a function that takes input text data,\n",
        "computes the similarity between the input text and the item descripotion\n",
        "of each item in the database and returns a dataframe of cosine values of each item \n",
        "against the input text.\n",
        "\"\"\"\n",
        "def compute_similarity1(input_value):\n",
        "  \n",
        "  #Defining two empty lists\n",
        "  cos_sim_values = []\n",
        "  Product_url = []\n",
        "  \n",
        "  #Run a loop to compute similarity between two vectors\n",
        "  for i in range(0,len(clothing_df)):\n",
        "      \n",
        "      #storing elements from the cell in Product_name\n",
        "      Product_name = (clothing_df['Product'][i:i+1])\n",
        "\n",
        "      #converting to string value\n",
        "      Product_name = Product_name.to_string()\n",
        "\n",
        "      # Removing any digit association with the text\n",
        "      Product_name = ''.join([j for j in Product_name if not j.isdigit()])\n",
        "\n",
        "      #storing elements from the cell in Product_url_clean\n",
        "      Product_url_clean = (clothing_df['Product_url'][i:i+1])\n",
        "\n",
        "      #converting to string value\n",
        "      Product_url_clean = Product_url_clean.to_string()\n",
        "\n",
        "      # Removing any digit association with the text\n",
        "      Product_url_clean = ''.join([m for m in Product_url_clean if not m.isdigit()])\n",
        "      \n",
        "      #splitting the words and storing it in dataframe\n",
        "      Product_name_df = pd.DataFrame({\"Words\": Product_name.split()})\n",
        "\n",
        "      #lookup for the frequency of the words\n",
        "      Product_name_df_freq = pd.DataFrame(pd.crosstab(index=Product_name_df['Words'],columns='count'))\n",
        "\n",
        "      #splitting the words and storing it in dataframe\n",
        "      input_df = pd.DataFrame({\"Words\": input_value.split()})\n",
        "\n",
        "      #lookup for the frequency of the words\n",
        "      input_df_freq = pd.DataFrame(pd.crosstab(index=input_df['Words'],columns='count'))\n",
        "\n",
        "      #concat the dfs\n",
        "      dfs = [Product_name_df_freq, input_df_freq]\n",
        "      all_words = pd.concat(dfs, axis=1)\n",
        "\n",
        "      # Substituting the NAN with zeros\n",
        "      all_words = all_words.fillna(0)\n",
        "      all_words.columns = [\"exist_data\", \"input_data\"]\n",
        "\n",
        "      #computing the cosine values\n",
        "      cos_sim = dot(all_words[\"exist_data\"], all_words[\"input_data\"])/(norm(all_words[\"exist_data\"])*norm(all_words[\"input_data\"]))\n",
        "\n",
        "      #append the values in the corresponding lists\n",
        "      cos_sim_values.append(cos_sim)\n",
        "      Product_url.append(Product_url_clean)\n",
        "\n",
        "  #storing the above lists values in the newly created column        \n",
        "  result_df['cos_sim_values'] = cos_sim_values\n",
        "  result_df['Product_url'] = Product_url\n",
        "\n",
        "  #Return the value\n",
        "  return result_df"
      ],
      "metadata": {
        "id": "8kEulJqjfWOU"
      },
      "execution_count": 6,
      "outputs": []
    },
    {
      "cell_type": "code",
      "source": [
        "# This is a function to encode and clean the returned url after processing\n",
        "def encode_and_clean_url(url):\n",
        " encoded_url = (quote(url, safe=':/?&='))\n",
        " cleaned_url = (encoded_url.replace(\"%20%20%20%20\",\"\"))\n",
        " return cleaned_url"
      ],
      "metadata": {
        "id": "CA2en1AVjzbb"
      },
      "execution_count": 7,
      "outputs": []
    },
    {
      "cell_type": "code",
      "source": [
        "# Importing the json module for working with JSON data\n",
        "\n",
        "import json\n",
        "\n",
        "def process_payload(json_payload):\n",
        "    # Parse the JSON payload\n",
        "    data = json.loads(json_payload)\n",
        "    \n",
        "    # Access the input text from the JSON payload\n",
        "    input_text = data[\"input_text\"]\n",
        "    return input_text\n",
        "# Example JSON payload\n",
        "# json_payload = {\"input_text\": \"panty and bra\"}\n",
        "json_payload = input(\"Enter your value in json format: \")\n",
        "\n",
        "# Call the function with the JSON payload\n",
        "input_text = process_payload(json_payload)\n",
        "input_text\n"
      ],
      "metadata": {
        "colab": {
          "base_uri": "https://localhost:8080/",
          "height": 53
        },
        "id": "c7ZQk8g7ftP8",
        "outputId": "93b8ffc9-5f24-4c5a-d3b5-c6293e018367"
      },
      "execution_count": 8,
      "outputs": [
        {
          "name": "stdout",
          "output_type": "stream",
          "text": [
            "Enter your value in json format: {\"input_text\": \"pants for boys\"}\n"
          ]
        },
        {
          "output_type": "execute_result",
          "data": {
            "text/plain": [
              "'pants for boys'"
            ],
            "application/vnd.google.colaboratory.intrinsic+json": {
              "type": "string"
            }
          },
          "metadata": {},
          "execution_count": 8
        }
      ]
    },
    {
      "cell_type": "code",
      "source": [
        "nltk.download('punkt')\n",
        "\n",
        "#calling the function to extract useful features\n",
        "extracted_text = word_embedding(input_text)\n",
        "\n",
        "# calling the function to measure cosine similarity\n",
        "result_df = compute_similarity1(extracted_text) \n",
        "\n",
        "#sorting the cosine values in order of highest values in the top\n",
        "result_df = result_df.sort_values(by='cos_sim_values', ascending=False)\n",
        "\n",
        "#Calling the function to encode and clean the url\n",
        "result_df['encoded_and_cleaned_url'] = result_df['Product_url'].apply(encode_and_clean_url)\n",
        "\n",
        "#Displaying the result after the above-mentioned operations\n",
        "result_df.head(4)"
      ],
      "metadata": {
        "colab": {
          "base_uri": "https://localhost:8080/",
          "height": 343
        },
        "id": "0MkTPbTHfs7d",
        "outputId": "1aec6b2d-6e8a-4dd7-e831-8c793c555eb1"
      },
      "execution_count": 9,
      "outputs": [
        {
          "output_type": "stream",
          "name": "stderr",
          "text": [
            "[nltk_data] Downloading package punkt to /root/nltk_data...\n",
            "[nltk_data]   Package punkt is already up-to-date!\n"
          ]
        },
        {
          "output_type": "execute_result",
          "data": {
            "text/plain": [
              "        Id  cos_sim_values  \\\n",
              "66      66        0.666667   \n",
              "1627  1627        0.577350   \n",
              "3301  3301        0.577350   \n",
              "986    986        0.577350   \n",
              "\n",
              "                                                                                                                                                                                                                                                                                                               Product_url  \\\n",
              "66                https://www.flipkart.com/thampa-brief-boys/p/itmfhcebpzwrqawv?pid=KBEFHZXCGXZNZ&lid=LSTKBEFHZXCGXZNZYOXNVL&marketplace=FLIPKART&store=clo&srno=b__&otracker=browse&fm=organic&iid=en_WubAMsDSnsOQfuBxQhOKKCuLUmtUfIKbjrSgiBUNQd%FLeMBiKCIicODOPnFcGsu%BcEIUtpeg%D%D&ppt=browse&ppn=browse&ssid=klcwszxog   \n",
              "1627      https://www.flipkart.com/xo-track-pant-boys/p/itmfdwfqejrds?pid=KTKFVHZTPJVEMHDS&lid=LSTKTKFVHZTPJVEMHDSTBORU&marketplace=FLIPKART&store=clo&srno=b__&otracker=browse&fm=organic&iid=en_VNfBeOkqkiXHuH%FK%Fc%FAnjxuatPgwDvuqolYZqG%Frlmtg%FaXjCoWUeuMRmSjLEtZFiKdjaetVA%D%D&ppt=browse&ppn=browse&ssid=klcwszxog   \n",
              "3301                  https://www.flipkart.com/stag-zoe-track-pant-boys/p/itmfefe?pid=KTKGNRPDAYGHEWK&lid=LSTKTKGNRPDAYGHEWKSUM&marketplace=FLIPKART&store=clo&srno=b__&otracker=browse&fm=organic&iid=en_xSnjREsKjBiNdVpzQxopttffYZfWXwaEI%Fs%FzehhlykvqCUigOnnhzN%BuzuPquEKlRfw%D%D&ppt=browse&ppn=browse&ssid=klcwszxog   \n",
              "986          https://www.flipkart.com/xo-track-pant-boys/p/itmfdwfqejrds?pid=KTKFVHZTPJVEMHDS&lid=LSTKTKFVHZTPJVEMHDSTBORU&marketplace=FLIPKART&store=clo&srno=b__&otracker=browse&fm=organic&iid=en_NKrxXuxvXBnsXIZRKz%FSrI%FyNdg%FUqIDAXRKLwJWeCfIiPNfVmOANmMRmSjLEtZFiKdjaetVA%D%D&ppt=browse&ppn=browse&ssid=klcwszxog   \n",
              "\n",
              "                                                                                                                                                                                                                                                                                                             encoded_and_cleaned_url  \n",
              "66                  https://www.flipkart.com/thampa-brief-boys/p/itmfhcebpzwrqawv?pid=KBEFHZXCGXZNZ&lid=LSTKBEFHZXCGXZNZYOXNVL&marketplace=FLIPKART&store=clo&srno=b__&otracker=browse&fm=organic&iid=en_WubAMsDSnsOQfuBxQhOKKCuLUmtUfIKbjrSgiBUNQd%25FLeMBiKCIicODOPnFcGsu%25BcEIUtpeg%25D%25D&ppt=browse&ppn=browse&ssid=klcwszxog  \n",
              "1627  https://www.flipkart.com/xo-track-pant-boys/p/itmfdwfqejrds?pid=KTKFVHZTPJVEMHDS&lid=LSTKTKFVHZTPJVEMHDSTBORU&marketplace=FLIPKART&store=clo&srno=b__&otracker=browse&fm=organic&iid=en_VNfBeOkqkiXHuH%25FK%25Fc%25FAnjxuatPgwDvuqolYZqG%25Frlmtg%25FaXjCoWUeuMRmSjLEtZFiKdjaetVA%25D%25D&ppt=browse&ppn=browse&ssid=klcwszxog  \n",
              "3301                  https://www.flipkart.com/stag-zoe-track-pant-boys/p/itmfefe?pid=KTKGNRPDAYGHEWK&lid=LSTKTKGNRPDAYGHEWKSUM&marketplace=FLIPKART&store=clo&srno=b__&otracker=browse&fm=organic&iid=en_xSnjREsKjBiNdVpzQxopttffYZfWXwaEI%25Fs%25FzehhlykvqCUigOnnhzN%25BuzuPquEKlRfw%25D%25D&ppt=browse&ppn=browse&ssid=klcwszxog  \n",
              "986          https://www.flipkart.com/xo-track-pant-boys/p/itmfdwfqejrds?pid=KTKFVHZTPJVEMHDS&lid=LSTKTKFVHZTPJVEMHDSTBORU&marketplace=FLIPKART&store=clo&srno=b__&otracker=browse&fm=organic&iid=en_NKrxXuxvXBnsXIZRKz%25FSrI%25FyNdg%25FUqIDAXRKLwJWeCfIiPNfVmOANmMRmSjLEtZFiKdjaetVA%25D%25D&ppt=browse&ppn=browse&ssid=klcwszxog  "
            ],
            "text/html": [
              "\n",
              "  <div id=\"df-07245f83-d2e4-482b-8e5a-3f71090d234a\">\n",
              "    <div class=\"colab-df-container\">\n",
              "      <div>\n",
              "<style scoped>\n",
              "    .dataframe tbody tr th:only-of-type {\n",
              "        vertical-align: middle;\n",
              "    }\n",
              "\n",
              "    .dataframe tbody tr th {\n",
              "        vertical-align: top;\n",
              "    }\n",
              "\n",
              "    .dataframe thead th {\n",
              "        text-align: right;\n",
              "    }\n",
              "</style>\n",
              "<table border=\"1\" class=\"dataframe\">\n",
              "  <thead>\n",
              "    <tr style=\"text-align: right;\">\n",
              "      <th></th>\n",
              "      <th>Id</th>\n",
              "      <th>cos_sim_values</th>\n",
              "      <th>Product_url</th>\n",
              "      <th>encoded_and_cleaned_url</th>\n",
              "    </tr>\n",
              "  </thead>\n",
              "  <tbody>\n",
              "    <tr>\n",
              "      <th>66</th>\n",
              "      <td>66</td>\n",
              "      <td>0.666667</td>\n",
              "      <td>https://www.flipkart.com/thampa-brief-boys/p/itmfhcebpzwrqawv?pid=KBEFHZXCGXZNZ&amp;lid=LSTKBEFHZXCGXZNZYOXNVL&amp;marketplace=FLIPKART&amp;store=clo&amp;srno=b__&amp;otracker=browse&amp;fm=organic&amp;iid=en_WubAMsDSnsOQfuBxQhOKKCuLUmtUfIKbjrSgiBUNQd%FLeMBiKCIicODOPnFcGsu%BcEIUtpeg%D%D&amp;ppt=browse&amp;ppn=browse&amp;ssid=klcwszxog</td>\n",
              "      <td>https://www.flipkart.com/thampa-brief-boys/p/itmfhcebpzwrqawv?pid=KBEFHZXCGXZNZ&amp;lid=LSTKBEFHZXCGXZNZYOXNVL&amp;marketplace=FLIPKART&amp;store=clo&amp;srno=b__&amp;otracker=browse&amp;fm=organic&amp;iid=en_WubAMsDSnsOQfuBxQhOKKCuLUmtUfIKbjrSgiBUNQd%25FLeMBiKCIicODOPnFcGsu%25BcEIUtpeg%25D%25D&amp;ppt=browse&amp;ppn=browse&amp;ssid=klcwszxog</td>\n",
              "    </tr>\n",
              "    <tr>\n",
              "      <th>1627</th>\n",
              "      <td>1627</td>\n",
              "      <td>0.577350</td>\n",
              "      <td>https://www.flipkart.com/xo-track-pant-boys/p/itmfdwfqejrds?pid=KTKFVHZTPJVEMHDS&amp;lid=LSTKTKFVHZTPJVEMHDSTBORU&amp;marketplace=FLIPKART&amp;store=clo&amp;srno=b__&amp;otracker=browse&amp;fm=organic&amp;iid=en_VNfBeOkqkiXHuH%FK%Fc%FAnjxuatPgwDvuqolYZqG%Frlmtg%FaXjCoWUeuMRmSjLEtZFiKdjaetVA%D%D&amp;ppt=browse&amp;ppn=browse&amp;ssid=klcwszxog</td>\n",
              "      <td>https://www.flipkart.com/xo-track-pant-boys/p/itmfdwfqejrds?pid=KTKFVHZTPJVEMHDS&amp;lid=LSTKTKFVHZTPJVEMHDSTBORU&amp;marketplace=FLIPKART&amp;store=clo&amp;srno=b__&amp;otracker=browse&amp;fm=organic&amp;iid=en_VNfBeOkqkiXHuH%25FK%25Fc%25FAnjxuatPgwDvuqolYZqG%25Frlmtg%25FaXjCoWUeuMRmSjLEtZFiKdjaetVA%25D%25D&amp;ppt=browse&amp;ppn=browse&amp;ssid=klcwszxog</td>\n",
              "    </tr>\n",
              "    <tr>\n",
              "      <th>3301</th>\n",
              "      <td>3301</td>\n",
              "      <td>0.577350</td>\n",
              "      <td>https://www.flipkart.com/stag-zoe-track-pant-boys/p/itmfefe?pid=KTKGNRPDAYGHEWK&amp;lid=LSTKTKGNRPDAYGHEWKSUM&amp;marketplace=FLIPKART&amp;store=clo&amp;srno=b__&amp;otracker=browse&amp;fm=organic&amp;iid=en_xSnjREsKjBiNdVpzQxopttffYZfWXwaEI%Fs%FzehhlykvqCUigOnnhzN%BuzuPquEKlRfw%D%D&amp;ppt=browse&amp;ppn=browse&amp;ssid=klcwszxog</td>\n",
              "      <td>https://www.flipkart.com/stag-zoe-track-pant-boys/p/itmfefe?pid=KTKGNRPDAYGHEWK&amp;lid=LSTKTKGNRPDAYGHEWKSUM&amp;marketplace=FLIPKART&amp;store=clo&amp;srno=b__&amp;otracker=browse&amp;fm=organic&amp;iid=en_xSnjREsKjBiNdVpzQxopttffYZfWXwaEI%25Fs%25FzehhlykvqCUigOnnhzN%25BuzuPquEKlRfw%25D%25D&amp;ppt=browse&amp;ppn=browse&amp;ssid=klcwszxog</td>\n",
              "    </tr>\n",
              "    <tr>\n",
              "      <th>986</th>\n",
              "      <td>986</td>\n",
              "      <td>0.577350</td>\n",
              "      <td>https://www.flipkart.com/xo-track-pant-boys/p/itmfdwfqejrds?pid=KTKFVHZTPJVEMHDS&amp;lid=LSTKTKFVHZTPJVEMHDSTBORU&amp;marketplace=FLIPKART&amp;store=clo&amp;srno=b__&amp;otracker=browse&amp;fm=organic&amp;iid=en_NKrxXuxvXBnsXIZRKz%FSrI%FyNdg%FUqIDAXRKLwJWeCfIiPNfVmOANmMRmSjLEtZFiKdjaetVA%D%D&amp;ppt=browse&amp;ppn=browse&amp;ssid=klcwszxog</td>\n",
              "      <td>https://www.flipkart.com/xo-track-pant-boys/p/itmfdwfqejrds?pid=KTKFVHZTPJVEMHDS&amp;lid=LSTKTKFVHZTPJVEMHDSTBORU&amp;marketplace=FLIPKART&amp;store=clo&amp;srno=b__&amp;otracker=browse&amp;fm=organic&amp;iid=en_NKrxXuxvXBnsXIZRKz%25FSrI%25FyNdg%25FUqIDAXRKLwJWeCfIiPNfVmOANmMRmSjLEtZFiKdjaetVA%25D%25D&amp;ppt=browse&amp;ppn=browse&amp;ssid=klcwszxog</td>\n",
              "    </tr>\n",
              "  </tbody>\n",
              "</table>\n",
              "</div>\n",
              "      <button class=\"colab-df-convert\" onclick=\"convertToInteractive('df-07245f83-d2e4-482b-8e5a-3f71090d234a')\"\n",
              "              title=\"Convert this dataframe to an interactive table.\"\n",
              "              style=\"display:none;\">\n",
              "        \n",
              "  <svg xmlns=\"http://www.w3.org/2000/svg\" height=\"24px\"viewBox=\"0 0 24 24\"\n",
              "       width=\"24px\">\n",
              "    <path d=\"M0 0h24v24H0V0z\" fill=\"none\"/>\n",
              "    <path d=\"M18.56 5.44l.94 2.06.94-2.06 2.06-.94-2.06-.94-.94-2.06-.94 2.06-2.06.94zm-11 1L8.5 8.5l.94-2.06 2.06-.94-2.06-.94L8.5 2.5l-.94 2.06-2.06.94zm10 10l.94 2.06.94-2.06 2.06-.94-2.06-.94-.94-2.06-.94 2.06-2.06.94z\"/><path d=\"M17.41 7.96l-1.37-1.37c-.4-.4-.92-.59-1.43-.59-.52 0-1.04.2-1.43.59L10.3 9.45l-7.72 7.72c-.78.78-.78 2.05 0 2.83L4 21.41c.39.39.9.59 1.41.59.51 0 1.02-.2 1.41-.59l7.78-7.78 2.81-2.81c.8-.78.8-2.07 0-2.86zM5.41 20L4 18.59l7.72-7.72 1.47 1.35L5.41 20z\"/>\n",
              "  </svg>\n",
              "      </button>\n",
              "      \n",
              "  <style>\n",
              "    .colab-df-container {\n",
              "      display:flex;\n",
              "      flex-wrap:wrap;\n",
              "      gap: 12px;\n",
              "    }\n",
              "\n",
              "    .colab-df-convert {\n",
              "      background-color: #E8F0FE;\n",
              "      border: none;\n",
              "      border-radius: 50%;\n",
              "      cursor: pointer;\n",
              "      display: none;\n",
              "      fill: #1967D2;\n",
              "      height: 32px;\n",
              "      padding: 0 0 0 0;\n",
              "      width: 32px;\n",
              "    }\n",
              "\n",
              "    .colab-df-convert:hover {\n",
              "      background-color: #E2EBFA;\n",
              "      box-shadow: 0px 1px 2px rgba(60, 64, 67, 0.3), 0px 1px 3px 1px rgba(60, 64, 67, 0.15);\n",
              "      fill: #174EA6;\n",
              "    }\n",
              "\n",
              "    [theme=dark] .colab-df-convert {\n",
              "      background-color: #3B4455;\n",
              "      fill: #D2E3FC;\n",
              "    }\n",
              "\n",
              "    [theme=dark] .colab-df-convert:hover {\n",
              "      background-color: #434B5C;\n",
              "      box-shadow: 0px 1px 3px 1px rgba(0, 0, 0, 0.15);\n",
              "      filter: drop-shadow(0px 1px 2px rgba(0, 0, 0, 0.3));\n",
              "      fill: #FFFFFF;\n",
              "    }\n",
              "  </style>\n",
              "\n",
              "      <script>\n",
              "        const buttonEl =\n",
              "          document.querySelector('#df-07245f83-d2e4-482b-8e5a-3f71090d234a button.colab-df-convert');\n",
              "        buttonEl.style.display =\n",
              "          google.colab.kernel.accessAllowed ? 'block' : 'none';\n",
              "\n",
              "        async function convertToInteractive(key) {\n",
              "          const element = document.querySelector('#df-07245f83-d2e4-482b-8e5a-3f71090d234a');\n",
              "          const dataTable =\n",
              "            await google.colab.kernel.invokeFunction('convertToInteractive',\n",
              "                                                     [key], {});\n",
              "          if (!dataTable) return;\n",
              "\n",
              "          const docLinkHtml = 'Like what you see? Visit the ' +\n",
              "            '<a target=\"_blank\" href=https://colab.research.google.com/notebooks/data_table.ipynb>data table notebook</a>'\n",
              "            + ' to learn more about interactive tables.';\n",
              "          element.innerHTML = '';\n",
              "          dataTable['output_type'] = 'display_data';\n",
              "          await google.colab.output.renderOutput(dataTable, element);\n",
              "          const docLink = document.createElement('div');\n",
              "          docLink.innerHTML = docLinkHtml;\n",
              "          element.appendChild(docLink);\n",
              "        }\n",
              "      </script>\n",
              "    </div>\n",
              "  </div>\n",
              "  "
            ]
          },
          "metadata": {},
          "execution_count": 9
        }
      ]
    },
    {
      "cell_type": "code",
      "source": [
        "#Inserting the rank index to rank the output\n",
        "result_df.insert(0, 'Rank_of_the_output', range(1, len(result_df) +1) ) \n",
        "#Dropping the Id column\n",
        "result_df.drop(['Id'],axis=1,inplace= True)"
      ],
      "metadata": {
        "id": "XY75Z3zHSHpp"
      },
      "execution_count": 10,
      "outputs": []
    },
    {
      "cell_type": "code",
      "source": [
        "#Creating a new dataframe taking only below columns from result_df and storing in final_output\n",
        "final_output = result_df[['Rank_of_the_output','cos_sim_values','encoded_and_cleaned_url']]\n",
        "\n",
        "#Defining a function to convert string into json format\n",
        "def json_format(string):\n",
        "  return(json.dumps(string))\n",
        "\n",
        "final_output_json_format = final_output['encoded_and_cleaned_url'].apply(json_format)\n",
        "\n",
        "#Displaying all the url in ranked conditions in json format with the most similar item in the top\n",
        "final_output_json_format.head(5)"
      ],
      "metadata": {
        "colab": {
          "base_uri": "https://localhost:8080/"
        },
        "id": "3JivAfqrOAtz",
        "outputId": "8a457190-c65e-4838-eaf0-3660ecea4170"
      },
      "execution_count": 11,
      "outputs": [
        {
          "output_type": "execute_result",
          "data": {
            "text/plain": [
              "66                    \"https://www.flipkart.com/thampa-brief-boys/p/itmfhcebpzwrqawv?pid=KBEFHZXCGXZNZ&lid=LSTKBEFHZXCGXZNZYOXNVL&marketplace=FLIPKART&store=clo&srno=b__&otracker=browse&fm=organic&iid=en_WubAMsDSnsOQfuBxQhOKKCuLUmtUfIKbjrSgiBUNQd%25FLeMBiKCIicODOPnFcGsu%25BcEIUtpeg%25D%25D&ppt=browse&ppn=browse&ssid=klcwszxog\"\n",
              "1627    \"https://www.flipkart.com/xo-track-pant-boys/p/itmfdwfqejrds?pid=KTKFVHZTPJVEMHDS&lid=LSTKTKFVHZTPJVEMHDSTBORU&marketplace=FLIPKART&store=clo&srno=b__&otracker=browse&fm=organic&iid=en_VNfBeOkqkiXHuH%25FK%25Fc%25FAnjxuatPgwDvuqolYZqG%25Frlmtg%25FaXjCoWUeuMRmSjLEtZFiKdjaetVA%25D%25D&ppt=browse&ppn=browse&ssid=klcwszxog\"\n",
              "3301                    \"https://www.flipkart.com/stag-zoe-track-pant-boys/p/itmfefe?pid=KTKGNRPDAYGHEWK&lid=LSTKTKGNRPDAYGHEWKSUM&marketplace=FLIPKART&store=clo&srno=b__&otracker=browse&fm=organic&iid=en_xSnjREsKjBiNdVpzQxopttffYZfWXwaEI%25Fs%25FzehhlykvqCUigOnnhzN%25BuzuPquEKlRfw%25D%25D&ppt=browse&ppn=browse&ssid=klcwszxog\"\n",
              "986            \"https://www.flipkart.com/xo-track-pant-boys/p/itmfdwfqejrds?pid=KTKFVHZTPJVEMHDS&lid=LSTKTKFVHZTPJVEMHDSTBORU&marketplace=FLIPKART&store=clo&srno=b__&otracker=browse&fm=organic&iid=en_NKrxXuxvXBnsXIZRKz%25FSrI%25FyNdg%25FUqIDAXRKLwJWeCfIiPNfVmOANmMRmSjLEtZFiKdjaetVA%25D%25D&ppt=browse&ppn=browse&ssid=klcwszxog\"\n",
              "1306                      \"https://www.flipkart.com/xo-track-pant-boys/p/itmfdwfqejrds?pid=KTKFVHZTPJVEMHDS&lid=LSTKTKFVHZTPJVEMHDSTBORU&marketplace=FLIPKART&store=clo&srno=b__&otracker=browse&fm=organic&iid=en_rXgQNPljjRmpIIbmGXkExUVDzHCVBaHWDjtYxuGuQnSaotJBiTmRMRmSjLEtZFiKdjaetVA%25D%25D&ppt=browse&ppn=browse&ssid=klcwszxog\"\n",
              "Name: encoded_and_cleaned_url, dtype: object"
            ]
          },
          "metadata": {},
          "execution_count": 11
        }
      ]
    }
  ]
}